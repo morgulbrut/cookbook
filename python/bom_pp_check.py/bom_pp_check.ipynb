{
 "metadata": {
  "language_info": {
   "codemirror_mode": {
    "name": "ipython",
    "version": 3
   },
   "file_extension": ".py",
   "mimetype": "text/x-python",
   "name": "python",
   "nbconvert_exporter": "python",
   "pygments_lexer": "ipython3",
   "version": "3.8.3"
  },
  "orig_nbformat": 4,
  "kernelspec": {
   "name": "python3",
   "display_name": "Python 3.8.3 64-bit"
  },
  "interpreter": {
   "hash": "1baa965d5efe3ac65b79dfc60c0d706280b1da80fedb7760faf2759126c4f253"
  }
 },
 "nbformat": 4,
 "nbformat_minor": 2,
 "cells": [
  {
   "cell_type": "code",
   "execution_count": 53,
   "metadata": {},
   "outputs": [],
   "source": [
    "import pandas as pd"
   ]
  },
  {
   "cell_type": "code",
   "execution_count": 54,
   "metadata": {},
   "outputs": [],
   "source": [
    "bom = \"BOM/5000039_03_Glimmprint-BM.xls\"\n",
    "pp = \"5000039_03_Glimmprint-PP/5000039_03_Glimmprint.csv\""
   ]
  },
  {
   "cell_type": "code",
   "execution_count": 55,
   "metadata": {},
   "outputs": [],
   "source": [
    "bom = pd.read_excel(bom, sheet_name=\"B-Stückliste\",skiprows=range(0,20))\n",
    "debom = bom[[\"Designator\",\"Comment\"]]\n",
    "boms = set()\n",
    "for i in range(len(debom[\"Designator\"])):\n",
    "    val = debom[\"Comment\"][i]\n",
    "    for p in debom[\"Designator\"][i].split(\",\"):\n",
    "        boms.add(p.strip()+\":\"+val)"
   ]
  },
  {
   "cell_type": "code",
   "execution_count": 56,
   "metadata": {},
   "outputs": [],
   "source": [
    "pp = pd.read_csv(pp,skiprows=range(0,12))\n",
    "depp = pp[[\"Designator\",\"Comment\"]]\n",
    "pps = set()\n",
    "for i in range(len(depp[\"Designator\"])):\n",
    "    val = depp[\"Comment\"][i]\n",
    "    key = depp[\"Designator\"][i]\n",
    "    pps.add(key+\":\"+val) "
   ]
  },
  {
   "cell_type": "code",
   "execution_count": 57,
   "metadata": {},
   "outputs": [
    {
     "output_type": "stream",
     "name": "stdout",
     "text": [
      "Not in PP: \t set()\nNot in BOM \t {'Logo5:MP_Logo_ESD', 'Logo4:MP_Logo_Abfall', 'Logo2:MP_Logo_Safematic', 'Logo3:MP_Legend'}\n"
     ]
    }
   ],
   "source": [
    "not_in_bom = pps.difference(boms)\n",
    "not_in_pp = boms.difference(pps)\n",
    "\n",
    "print(\"Not in PP:\",\"\\t\",not_in_pp)\n",
    "print(\"Not in BOM\",\"\\t\",not_in_bom)"
   ]
  }
 ]
}