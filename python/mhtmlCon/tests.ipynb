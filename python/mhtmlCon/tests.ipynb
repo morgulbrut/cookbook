{
 "metadata": {
  "language_info": {
   "codemirror_mode": {
    "name": "ipython",
    "version": 3
   },
   "file_extension": ".py",
   "mimetype": "text/x-python",
   "name": "python",
   "nbconvert_exporter": "python",
   "pygments_lexer": "ipython3",
   "version": "3.8.3-final"
  },
  "orig_nbformat": 2,
  "kernelspec": {
   "name": "python3",
   "display_name": "Python 3.8.3 64-bit",
   "metadata": {
    "interpreter": {
     "hash": "1baa965d5efe3ac65b79dfc60c0d706280b1da80fedb7760faf2759126c4f253"
    }
   }
  }
 },
 "nbformat": 4,
 "nbformat_minor": 2,
 "cells": [
  {
   "cell_type": "code",
   "execution_count": 45,
   "metadata": {
    "tags": []
   },
   "outputs": [],
   "source": [
    "import base64\n",
    "\n",
    "from bs4 import BeautifulSoup\n",
    "\n",
    "\n",
    "with open(\"Recording_20210215_0845.mhtml\",\"r\") as rf:\n",
    "    data = rf.read()\n",
    "\n",
    "    fields = data.split(\"--=_NextPart\")\n",
    "    \n",
    "    i = 1\n",
    "    for f in fields:\n",
    "         # Images \n",
    "        if \"Content-Type: image/jpeg\" in f:\n",
    "            img_data = f.split(\"\\n\\n\")[1]\n",
    "            filename = \"img\"+str(i)+\".png\"\n",
    "            i+=1\n",
    "            with open(filename, \"wb\") as fh:\n",
    "                    fh.write(base64.decodebytes(bytes(img_data, 'utf-8')))\n",
    "\n",
    "        if \"Content-Location: main.htm\" in f:\n",
    "            html_data = f.split(\"<!DOCTYPE html>\")[1]\n",
    "            with open(\"index.html\",\"w\") as fh:\n",
    "                fh.write(html_data)\n",
    "\n",
    "            with open(\"readme.md\",\"w\") as fh:\n",
    "                soup = BeautifulSoup(html_data, 'html.parser')\n",
    "                j = 1\n",
    "                for step in soup.find_all('p'):\n",
    "                    if len(step.contents)==2:\n",
    "                        stepdesc = step.contents[1].strip()\n",
    "                        fh.write(\"![{}](img{}.png)\\n\\n\".format(stepdesc,j))\n",
    "                        fh.write(\"{}\\n\\n\".format(stepdesc))\n",
    "                        j+=1\n",
    "                        \n",
    "\n",
    "        "
   ]
  },
  {
   "cell_type": "code",
   "execution_count": null,
   "metadata": {},
   "outputs": [],
   "source": []
  }
 ]
}